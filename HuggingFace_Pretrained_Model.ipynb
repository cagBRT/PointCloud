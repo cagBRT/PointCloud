{
  "nbformat": 4,
  "nbformat_minor": 0,
  "metadata": {
    "colab": {
      "private_outputs": true,
      "provenance": [],
      "gpuType": "T4",
      "authorship_tag": "ABX9TyOGJ7JYUWRJ5cPWuVXQtZDr",
      "include_colab_link": true
    },
    "kernelspec": {
      "name": "python3",
      "display_name": "Python 3"
    },
    "language_info": {
      "name": "python"
    },
    "accelerator": "GPU"
  },
  "cells": [
    {
      "cell_type": "markdown",
      "metadata": {
        "id": "view-in-github",
        "colab_type": "text"
      },
      "source": [
        "<a href=\"https://colab.research.google.com/github/cagBRT/PointCloud/blob/main/HuggingFace_Pretrained_Model.ipynb\" target=\"_parent\"><img src=\"https://colab.research.google.com/assets/colab-badge.svg\" alt=\"Open In Colab\"/></a>"
      ]
    },
    {
      "cell_type": "code",
      "source": [
        "!pip install huggingface_hub"
      ],
      "metadata": {
        "id": "ATVzU3kN6nZk"
      },
      "execution_count": null,
      "outputs": []
    },
    {
      "cell_type": "code",
      "source": [
        "!pip install datasets"
      ],
      "metadata": {
        "id": "7AWn8bhbR_Ov"
      },
      "execution_count": null,
      "outputs": []
    },
    {
      "cell_type": "markdown",
      "source": [],
      "metadata": {
        "id": "9IOh4anXOx-5"
      }
    },
    {
      "cell_type": "code",
      "source": [
        "from huggingface_hub import from_pretrained_keras"
      ],
      "metadata": {
        "id": "ocP4aQYl6mno"
      },
      "execution_count": null,
      "outputs": []
    },
    {
      "cell_type": "code",
      "execution_count": null,
      "metadata": {
        "id": "0Fo2S29E6iAr"
      },
      "outputs": [],
      "source": [
        "model = from_pretrained_keras(\"keras-io/PointNet\")"
      ]
    },
    {
      "cell_type": "code",
      "source": [
        "model.summary()"
      ],
      "metadata": {
        "id": "4c9O9-sHUE2m"
      },
      "execution_count": null,
      "outputs": []
    },
    {
      "cell_type": "markdown",
      "source": [
        "Get MNIST dataset"
      ],
      "metadata": {
        "id": "3_kvA_t4SFLP"
      }
    },
    {
      "cell_type": "code",
      "source": [
        "model.compile()"
      ],
      "metadata": {
        "id": "XaixS5da6xBH"
      },
      "execution_count": null,
      "outputs": []
    },
    {
      "cell_type": "code",
      "source": [
        "import matplotlib.pyplot as plt\n",
        "import numpy as np\n",
        "\n",
        "from datasets import load_dataset\n",
        "\n",
        "# load dataset\n",
        "dataset = load_dataset(\"cgarciae/point-cloud-mnist\")\n",
        "dataset.set_format(\"np\")\n",
        "\n",
        "\n",
        "# get numpy arrays\n",
        "X_train = dataset[\"train\"][\"points\"]\n",
        "y_train = dataset[\"train\"][\"label\"]\n",
        "X_test = dataset[\"test\"][\"points\"]\n",
        "y_test = dataset[\"test\"][\"label\"]\n",
        "\n"
      ],
      "metadata": {
        "id": "CD_HVih_6zS3"
      },
      "execution_count": null,
      "outputs": []
    },
    {
      "cell_type": "code",
      "source": [
        "X_train.shape"
      ],
      "metadata": {
        "id": "NaFrfp7MTdcd"
      },
      "execution_count": null,
      "outputs": []
    },
    {
      "cell_type": "code",
      "source": [
        "X_test.shape"
      ],
      "metadata": {
        "id": "pf8bs3WnTkNl"
      },
      "execution_count": null,
      "outputs": []
    },
    {
      "cell_type": "code",
      "source": [
        "# plot some training samples\n",
        "figure = plt.figure(figsize=(10, 10))\n",
        "for i in range(3):\n",
        "    for j in range(3):\n",
        "        k = 3 * i + j\n",
        "        plt.subplot(3, 3, k + 1)\n",
        "        idx = np.random.randint(0, len(X_train))\n",
        "\n",
        "        plt.title(f\"{y_train[idx]}\")\n",
        "        plt.scatter(X_train[idx, :, 0], X_train[idx, :, 1])\n",
        "\n",
        "plt.show()"
      ],
      "metadata": {
        "id": "O3GroBXESHug"
      },
      "execution_count": null,
      "outputs": []
    }
  ]
}