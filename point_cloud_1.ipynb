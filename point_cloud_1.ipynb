{
  "nbformat": 4,
  "nbformat_minor": 0,
  "metadata": {
    "colab": {
      "private_outputs": true,
      "provenance": [],
      "gpuType": "T4",
      "authorship_tag": "ABX9TyNnjgcEhltQHg60zS6yYF5R",
      "include_colab_link": true
    },
    "kernelspec": {
      "name": "python3",
      "display_name": "Python 3"
    },
    "language_info": {
      "name": "python"
    },
    "accelerator": "GPU"
  },
  "cells": [
    {
      "cell_type": "markdown",
      "metadata": {
        "id": "view-in-github",
        "colab_type": "text"
      },
      "source": [
        "<a href=\"https://colab.research.google.com/github/cagBRT/PointCloud/blob/main/point_cloud_1.ipynb\" target=\"_parent\"><img src=\"https://colab.research.google.com/assets/colab-badge.svg\" alt=\"Open In Colab\"/></a>"
      ]
    },
    {
      "cell_type": "markdown",
      "source": [
        "This notebook uses the Open3d library to learn about point clouds."
      ],
      "metadata": {
        "id": "IFfSmYpbFRhQ"
      }
    },
    {
      "cell_type": "code",
      "source": [
        "# Clone the entire repo.\n",
        "!git clone -l -s https://github.com/cagBRT/PointCloud.git cloned-repo\n",
        "%cd cloned-repo"
      ],
      "metadata": {
        "id": "fjAwPku9Hn1v"
      },
      "execution_count": null,
      "outputs": []
    },
    {
      "cell_type": "code",
      "source": [
        "from IPython.display import Image"
      ],
      "metadata": {
        "id": "V4Z_qfgSHqds"
      },
      "execution_count": null,
      "outputs": []
    },
    {
      "cell_type": "code",
      "source": [
        "!pip install open3d"
      ],
      "metadata": {
        "id": "qxgJlquqmrpW"
      },
      "execution_count": null,
      "outputs": []
    },
    {
      "cell_type": "markdown",
      "source": [
        "# Import the libaries"
      ],
      "metadata": {
        "id": "gc2nfGRyFnq2"
      }
    },
    {
      "cell_type": "code",
      "execution_count": null,
      "metadata": {
        "id": "Kl2gpen2moV4"
      },
      "outputs": [],
      "source": [
        "import numpy as np\n",
        "import matplotlib.pyplot as plt\n",
        "import open3d as o3d"
      ]
    },
    {
      "cell_type": "markdown",
      "source": [
        "# Create a set of points to create a point cloud dataset"
      ],
      "metadata": {
        "id": "Lnsx1acpFrOL"
      }
    },
    {
      "cell_type": "code",
      "source": [
        "number_points = 8\n",
        "pcd = np.random.rand(number_points, 3)  # uniform distribution over [0, 1)\n",
        "print(pcd)"
      ],
      "metadata": {
        "id": "3-1Tkjfcm4TZ"
      },
      "execution_count": null,
      "outputs": []
    },
    {
      "cell_type": "markdown",
      "source": [
        "# Plot the point cloud dataset on a 3D plot"
      ],
      "metadata": {
        "id": "VOe-ZwV7F_DG"
      }
    },
    {
      "cell_type": "code",
      "source": [
        "# Create Figure:\n",
        "fig, ax = plt.subplots(subplot_kw={\"projection\": \"3d\"})\n",
        "ax.scatter3D(pcd[:, 0], pcd[:, 1], pcd[:, 2])\n",
        "# label the axes\n",
        "ax.set_xlabel(\"X\")\n",
        "ax.set_ylabel(\"Y\")\n",
        "ax.set_zlabel(\"Z\")\n",
        "ax.set_title(\"Random Point Cloud\")\n",
        "# display:\n",
        "plt.show()"
      ],
      "metadata": {
        "id": "brL0zlArm86b"
      },
      "execution_count": null,
      "outputs": []
    },
    {
      "cell_type": "markdown",
      "source": [
        "**Use Plotly to graph the scatterplot**"
      ],
      "metadata": {
        "id": "wMK9LdbzcMOm"
      }
    },
    {
      "cell_type": "code",
      "source": [
        "import plotly.express as px\n",
        "\n",
        "fig = px.scatter_3d(pcd, x=pcd[:, 0], y=pcd[:, 1], z=pcd[:, 2],\n",
        "              )\n",
        "fig.show()"
      ],
      "metadata": {
        "id": "gFNgvK6ocQo8"
      },
      "execution_count": null,
      "outputs": []
    },
    {
      "cell_type": "markdown",
      "source": [
        "**Assignment:** <br>\n",
        "Try different sizes of datasets"
      ],
      "metadata": {
        "id": "AmuG121lz7E8"
      }
    },
    {
      "cell_type": "markdown",
      "source": [
        "# Get a point cloud representation of a bunny"
      ],
      "metadata": {
        "id": "IZhFV45WGJsm"
      }
    },
    {
      "cell_type": "code",
      "source": [
        "!wget https://raw.githubusercontent.com/PointCloudLibrary/pcl/master/test/bunny.pcd"
      ],
      "metadata": {
        "id": "91TgVO3Lqovs"
      },
      "execution_count": null,
      "outputs": []
    },
    {
      "cell_type": "code",
      "source": [
        "cloud = o3d.io.read_point_cloud(\"bunny.pcd\")\n",
        "if cloud.is_empty(): exit()"
      ],
      "metadata": {
        "id": "MPx-lcoWqrlx"
      },
      "execution_count": null,
      "outputs": []
    },
    {
      "cell_type": "markdown",
      "source": [
        "# Estimate normals"
      ],
      "metadata": {
        "id": "EJOszMCUGm55"
      }
    },
    {
      "cell_type": "markdown",
      "source": [
        "In point cloud processing, “estimate normals” refers to the process of computing surface normal vectors for each point in the point cloud.<br>\n",
        "\n",
        "Surface normals are vectors that are perpendicular to the surface of the object represented by the point cloud at each point."
      ],
      "metadata": {
        "id": "uA7dCieIGtVT"
      }
    },
    {
      "cell_type": "code",
      "source": [
        "Image(\"/content/cloned-repo/surfaceNormals.png\", width=400)"
      ],
      "metadata": {
        "id": "DwabbAuxHxE8"
      },
      "execution_count": null,
      "outputs": []
    },
    {
      "cell_type": "code",
      "source": [
        "cloud.estimate_normals(search_param=o3d.geometry.KDTreeSearchParamHybrid(radius=0.1, max_nn=30))"
      ],
      "metadata": {
        "id": "AubuF0ylqt6v"
      },
      "execution_count": null,
      "outputs": []
    },
    {
      "cell_type": "markdown",
      "source": [
        "# Plot the point cloud"
      ],
      "metadata": {
        "id": "SZ5maYUUIGrZ"
      }
    },
    {
      "cell_type": "code",
      "source": [
        "import plotly.graph_objects as go"
      ],
      "metadata": {
        "id": "-07DI_Ucq8-X"
      },
      "execution_count": null,
      "outputs": []
    },
    {
      "cell_type": "code",
      "source": [
        "points = np.asarray(cloud.points)"
      ],
      "metadata": {
        "id": "D2Bza7pJrJxu"
      },
      "execution_count": null,
      "outputs": []
    },
    {
      "cell_type": "code",
      "source": [
        "colors = None\n",
        "if cloud.has_colors():\n",
        "    colors = np.asarray(cloud.colors)\n",
        "elif cloud.has_normals():\n",
        "    colors = (0.5, 0.5, 0.5) + np.asarray(cloud.normals) * 0.5\n",
        "else:\n",
        "    geometry.paint_uniform_color((1.0, 0.0, 0.0))\n",
        "    colors = np.asarray(geometry.colors)"
      ],
      "metadata": {
        "id": "t5w-t9KHrNgS"
      },
      "execution_count": null,
      "outputs": []
    },
    {
      "cell_type": "code",
      "source": [
        "fig = go.Figure(\n",
        "    data=[\n",
        "        go.Scatter3d(\n",
        "            x=points[:,0], y=points[:,1], z=points[:,2],\n",
        "            mode='markers',\n",
        "            marker=dict(size=1, color=colors)\n",
        "        )\n",
        "    ],\n",
        "    layout=dict(\n",
        "        scene=dict(\n",
        "            xaxis=dict(visible=False),\n",
        "            yaxis=dict(visible=False),\n",
        "            zaxis=dict(visible=False)\n",
        "        )\n",
        "    )\n",
        ")\n",
        "fig.show()"
      ],
      "metadata": {
        "id": "zAerSI6lq_jj"
      },
      "execution_count": null,
      "outputs": []
    },
    {
      "cell_type": "markdown",
      "source": [
        "# Get the mesh version of the bunny"
      ],
      "metadata": {
        "id": "IJMy3g0dIaGs"
      }
    },
    {
      "cell_type": "code",
      "source": [
        "!wget https://graphics.stanford.edu/~mdfisher/Data/Meshes/bunny.obj"
      ],
      "metadata": {
        "id": "u9u_XPZLreOK"
      },
      "execution_count": null,
      "outputs": []
    },
    {
      "cell_type": "code",
      "source": [
        "mesh = o3d.io.read_triangle_mesh(\"bunny.obj\")\n",
        "if mesh.is_empty(): exit()"
      ],
      "metadata": {
        "id": "pBi1o7Uprho-"
      },
      "execution_count": null,
      "outputs": []
    },
    {
      "cell_type": "markdown",
      "source": [
        "Vertex normals are defined at the vertices of the triangle. You can see that they are oriented perpendicular to the smooth underlying surface that the triangle mesh was built from. Sometimes triangles mesh are not directly converted from a smooth surface, and vertex normals have to be computed on the fly."
      ],
      "metadata": {
        "id": "bxKKZpXFIgzZ"
      }
    },
    {
      "cell_type": "code",
      "source": [
        "Image(\"interpolated normals.png\")"
      ],
      "metadata": {
        "id": "3rv1HC-8JQEv"
      },
      "execution_count": null,
      "outputs": []
    },
    {
      "cell_type": "code",
      "source": [
        "if not mesh.has_vertex_normals(): mesh.compute_vertex_normals()\n",
        "if not mesh.has_triangle_normals(): mesh.compute_triangle_normals()"
      ],
      "metadata": {
        "id": "RQ1BvLbCrjsg"
      },
      "execution_count": null,
      "outputs": []
    },
    {
      "cell_type": "code",
      "source": [
        "triangles = np.asarray(mesh.triangles)\n",
        "vertices = np.asarray(mesh.vertices)\n",
        "colors = None\n",
        "if mesh.has_triangle_normals():\n",
        "    colors = (0.5, 0.5, 0.5) + np.asarray(mesh.triangle_normals) * 0.5\n",
        "    colors = tuple(map(tuple, colors))\n",
        "else:\n",
        "    colors = (1.0, 0.0, 0.0)"
      ],
      "metadata": {
        "id": "5d1icBWMrlpm"
      },
      "execution_count": null,
      "outputs": []
    },
    {
      "cell_type": "code",
      "source": [
        "fig = go.Figure(\n",
        "    data=[\n",
        "        go.Mesh3d(\n",
        "            x=vertices[:,0],\n",
        "            y=vertices[:,1],\n",
        "            z=vertices[:,2],\n",
        "            i=triangles[:,0],\n",
        "            j=triangles[:,1],\n",
        "            k=triangles[:,2],\n",
        "            facecolor=colors,\n",
        "            opacity=0.50)\n",
        "    ],\n",
        "    layout=dict(\n",
        "        scene=dict(\n",
        "            xaxis=dict(visible=False),\n",
        "            yaxis=dict(visible=False),\n",
        "            zaxis=dict(visible=False)\n",
        "        )\n",
        "    )\n",
        ")\n",
        "fig.show()"
      ],
      "metadata": {
        "id": "yZKTJNFqrnpK"
      },
      "execution_count": null,
      "outputs": []
    },
    {
      "cell_type": "code",
      "source": [
        "def draw_geometries(geometries):\n",
        "    graph_objects = []\n",
        "\n",
        "    for geometry in geometries:\n",
        "        geometry_type = geometry.get_geometry_type()\n",
        "\n",
        "        if geometry_type == o3d.geometry.Geometry.Type.PointCloud:\n",
        "            points = np.asarray(geometry.points)\n",
        "            colors = None\n",
        "            if geometry.has_colors():\n",
        "                colors = np.asarray(geometry.colors)\n",
        "            elif geometry.has_normals():\n",
        "                colors = (0.5, 0.5, 0.5) + np.asarray(geometry.normals) * 0.5\n",
        "            else:\n",
        "                geometry.paint_uniform_color((1.0, 0.0, 0.0))\n",
        "                colors = np.asarray(geometry.colors)\n",
        "\n",
        "            scatter_3d = go.Scatter3d(x=points[:,0], y=points[:,1], z=points[:,2], mode='markers', marker=dict(size=1, color=colors))\n",
        "            graph_objects.append(scatter_3d)\n",
        "\n",
        "        if geometry_type == o3d.geometry.Geometry.Type.TriangleMesh:\n",
        "            triangles = np.asarray(geometry.triangles)\n",
        "            vertices = np.asarray(geometry.vertices)\n",
        "            colors = None\n",
        "            if geometry.has_triangle_normals():\n",
        "                colors = (0.5, 0.5, 0.5) + np.asarray(geometry.triangle_normals) * 0.5\n",
        "                colors = tuple(map(tuple, colors))\n",
        "            else:\n",
        "                colors = (1.0, 0.0, 0.0)\n",
        "\n",
        "            mesh_3d = go.Mesh3d(x=vertices[:,0], y=vertices[:,1], z=vertices[:,2], i=triangles[:,0], j=triangles[:,1], k=triangles[:,2], facecolor=colors, opacity=0.50)\n",
        "            graph_objects.append(mesh_3d)\n",
        "\n",
        "    fig = go.Figure(\n",
        "        data=graph_objects,\n",
        "        layout=dict(\n",
        "            scene=dict(\n",
        "                xaxis=dict(visible=False),\n",
        "                yaxis=dict(visible=False),\n",
        "                zaxis=dict(visible=False)\n",
        "            )\n",
        "        )\n",
        "    )\n",
        "    fig.show()"
      ],
      "metadata": {
        "id": "jECcCKbPrvi9"
      },
      "execution_count": null,
      "outputs": []
    },
    {
      "cell_type": "code",
      "source": [
        "o3d.visualization.draw_geometries = draw_geometries # replace function\n",
        "o3d.visualization.draw_geometries([cloud])\n",
        "o3d.visualization.draw_geometries([mesh])"
      ],
      "metadata": {
        "id": "XcO7zoHyryOC"
      },
      "execution_count": null,
      "outputs": []
    }
  ]
}