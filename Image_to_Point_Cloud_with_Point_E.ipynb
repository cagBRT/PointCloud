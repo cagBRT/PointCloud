{
  "nbformat": 4,
  "nbformat_minor": 0,
  "metadata": {
    "colab": {
      "private_outputs": true,
      "provenance": [],
      "authorship_tag": "ABX9TyOO5IuIcDPiavHcXqIOCN1I",
      "include_colab_link": true
    },
    "kernelspec": {
      "name": "python3",
      "display_name": "Python 3"
    },
    "language_info": {
      "name": "python"
    }
  },
  "cells": [
    {
      "cell_type": "markdown",
      "metadata": {
        "id": "view-in-github",
        "colab_type": "text"
      },
      "source": [
        "<a href=\"https://colab.research.google.com/github/cagBRT/PointCloud/blob/main/Image_to_Point_Cloud_with_Point_E.ipynb\" target=\"_parent\"><img src=\"https://colab.research.google.com/assets/colab-badge.svg\" alt=\"Open In Colab\"/></a>"
      ]
    },
    {
      "cell_type": "markdown",
      "source": [
        "https://segments.ai/blog/image-to-pointcloud-with-point-e\n"
      ],
      "metadata": {
        "id": "ql3CFLzeyxNO"
      }
    },
    {
      "cell_type": "markdown",
      "source": [
        "#  Point-E\n",
        "Point-E is a deep learning model created by OpenAI that transforms a text caption into a colored point cloud. More specifically, Point-E consists of three steps, each handled by a dedicated ML model:\n",
        "\n",
        "Generate an image conditioned on a text caption\n",
        "Create a point cloud (1024 points) conditioned on the image\n",
        "Upsample the point cloud (to 4096 points) conditioned on the image and low-resolution point cloud"
      ],
      "metadata": {
        "id": "i6ItCZCJ143G"
      }
    },
    {
      "cell_type": "code",
      "execution_count": null,
      "metadata": {
        "id": "bXGChONvyV88"
      },
      "outputs": [],
      "source": [
        "!pip install git+https://github.com/openai/point-e -q"
      ]
    },
    {
      "cell_type": "code",
      "source": [
        "from PIL import Image\n",
        "import torch\n",
        "from tqdm.auto import tqdm\n",
        "\n",
        "from point_e.diffusion.configs import DIFFUSION_CONFIGS, diffusion_from_config\n",
        "from point_e.diffusion.sampler import PointCloudSampler\n",
        "from point_e.models.download import load_checkpoint\n",
        "from point_e.models.configs import MODEL_CONFIGS, model_from_config\n",
        "from point_e.util.plotting import plot_point_cloud\n"
      ],
      "metadata": {
        "id": "s9819FZO2LN7"
      },
      "execution_count": null,
      "outputs": []
    },
    {
      "cell_type": "code",
      "source": [
        "device = torch.device(\"cuda\" if torch.cuda.is_available() else \"cpu\")"
      ],
      "metadata": {
        "id": "g8wThwMa2NwP"
      },
      "execution_count": null,
      "outputs": []
    },
    {
      "cell_type": "markdown",
      "source": [],
      "metadata": {
        "id": "CTPzM0JT2QCE"
      }
    },
    {
      "cell_type": "code",
      "source": [
        "print(\"Creating base model\")\n",
        "base_name = \"base300M\"  # Use base1B for better results\n",
        "base_model = model_from_config(MODEL_CONFIGS[base_name], device)\n",
        "base_model.eval()\n",
        "base_diffusion = diffusion_from_config(DIFFUSION_CONFIGS[base_name])"
      ],
      "metadata": {
        "id": "EJzPKay82Qfh"
      },
      "execution_count": null,
      "outputs": []
    },
    {
      "cell_type": "code",
      "source": [
        "print(\"Creating upsample model\")\n",
        "upsampler_model = model_from_config(MODEL_CONFIGS[\"upsample\"], device)\n",
        "upsampler_model.eval()\n",
        "upsampler_diffusion = diffusion_from_config(DIFFUSION_CONFIGS[\"upsample\"])"
      ],
      "metadata": {
        "id": "mjW_as__2ShK"
      },
      "execution_count": null,
      "outputs": []
    },
    {
      "cell_type": "code",
      "source": [
        "print(\"Downloading base checkpoint\")\n",
        "base_model.load_state_dict(load_checkpoint(base_name, device))"
      ],
      "metadata": {
        "id": "Ez4pNHOB2UMw"
      },
      "execution_count": null,
      "outputs": []
    },
    {
      "cell_type": "code",
      "source": [
        "print(\"Downloading upsampler checkpoint\")\n",
        "upsampler_model.load_state_dict(load_checkpoint(\"upsample\", device))"
      ],
      "metadata": {
        "id": "QDlMou3H2WSm"
      },
      "execution_count": null,
      "outputs": []
    },
    {
      "cell_type": "code",
      "source": [
        "# Combine the image-to-point cloud and upsampler model\n",
        "sampler = PointCloudSampler(\n",
        "    device=device,\n",
        "    models=[base_model, upsampler_model],\n",
        "    diffusions=[base_diffusion, upsampler_diffusion],\n",
        "    num_points=[1024, 4096 - 1024],\n",
        "    aux_channels=[\"R\", \"G\", \"B\"],\n",
        "    guidance_scale=[3.0, 3.0],\n",
        ")"
      ],
      "metadata": {
        "id": "OwSHHPEnyb9K"
      },
      "execution_count": null,
      "outputs": []
    },
    {
      "cell_type": "markdown",
      "source": [
        "# Create a point cloud based on an image. <br>\n",
        "\n",
        "This process typically results in higher-quality point clouds"
      ],
      "metadata": {
        "id": "Pys08z4o2B61"
      }
    },
    {
      "cell_type": "code",
      "source": [
        "# Load an image to condition on\n",
        "img_path = \"/content/treeImage.png\" # Fill in your image path\n",
        "img = Image.open(img_path)"
      ],
      "metadata": {
        "id": "KM_xv5cSyevm"
      },
      "execution_count": null,
      "outputs": []
    },
    {
      "cell_type": "code",
      "source": [
        "# Produce a sample from the model (this takes around 3 minutes on base300M)\n",
        "samples = None\n",
        "for x in tqdm(\n",
        "    sampler.sample_batch_progressive(batch_size=1, model_kwargs=dict(images=[img]))\n",
        "):\n",
        "    samples = x\n",
        "pc = sampler.output_to_point_clouds(samples)[0]"
      ],
      "metadata": {
        "id": "RaO2UKNuyiys"
      },
      "execution_count": null,
      "outputs": []
    }
  ]
}