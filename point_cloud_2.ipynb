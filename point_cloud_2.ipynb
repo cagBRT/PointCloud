{
  "nbformat": 4,
  "nbformat_minor": 0,
  "metadata": {
    "colab": {
      "private_outputs": true,
      "provenance": [],
      "authorship_tag": "ABX9TyN4KYlE8oQTiKuAilR0wQcG",
      "include_colab_link": true
    },
    "kernelspec": {
      "name": "python3",
      "display_name": "Python 3"
    },
    "language_info": {
      "name": "python"
    }
  },
  "cells": [
    {
      "cell_type": "markdown",
      "metadata": {
        "id": "view-in-github",
        "colab_type": "text"
      },
      "source": [
        "<a href=\"https://colab.research.google.com/github/cagBRT/PointCloud/blob/main/point_cloud_2.ipynb\" target=\"_parent\"><img src=\"https://colab.research.google.com/assets/colab-badge.svg\" alt=\"Open In Colab\"/></a>"
      ]
    },
    {
      "cell_type": "markdown",
      "source": [
        "This notebook demonstrates point clouds"
      ],
      "metadata": {
        "id": "jCIiZ_PBKNUr"
      }
    },
    {
      "cell_type": "markdown",
      "source": [
        "**Open3D is an open-source library** that provides a set of 3D data processing tools and algorithms. It is written in C++ and has Python bindings, making it accessible to a wide range of users. Open3D is designed to be easy to use and can be used for a variety of 3D data processing tasks, such as point cloud and mesh processing, 3D reconstruction, and visualization."
      ],
      "metadata": {
        "id": "iY0YytkqLLFc"
      }
    },
    {
      "cell_type": "code",
      "source": [
        "!pip install open3d"
      ],
      "metadata": {
        "id": "B3uZtIy4ybYV"
      },
      "execution_count": null,
      "outputs": []
    },
    {
      "cell_type": "markdown",
      "source": [
        "# Import the libraries"
      ],
      "metadata": {
        "id": "5ssBaS3tKUN6"
      }
    },
    {
      "cell_type": "code",
      "execution_count": null,
      "metadata": {
        "id": "KIYsVHU_yW5g"
      },
      "outputs": [],
      "source": [
        "import open3d as o3d\n",
        "import numpy as np\n",
        "import plotly.graph_objects as go"
      ]
    },
    {
      "cell_type": "markdown",
      "source": [
        "# Load the Polygon (PLY) file format<br>\n",
        "This format was designed to store three-dimensional data from 3D scanners"
      ],
      "metadata": {
        "id": "DPKBE5kOKW4L"
      }
    },
    {
      "cell_type": "code",
      "source": [
        "print(\"Load a ply point cloud, print it, and render it\")\n",
        "ply_point_cloud = o3d.data.PLYPointCloud()\n",
        "pcd = o3d.io.read_point_cloud(ply_point_cloud.path)\n",
        "points = np.asarray(pcd.points)\n",
        "print(pcd)\n",
        "print(np.asarray(pcd.points))"
      ],
      "metadata": {
        "id": "803liV1wyZCU"
      },
      "execution_count": null,
      "outputs": []
    },
    {
      "cell_type": "markdown",
      "source": [
        "# Plot the figure"
      ],
      "metadata": {
        "id": "5qhnUNzzKzq6"
      }
    },
    {
      "cell_type": "code",
      "source": [
        "colors = None\n",
        "if pcd.has_colors():\n",
        "    colors = np.asarray(pcd.colors)\n",
        "elif pcd.has_normals():\n",
        "    colors = (0.5, 0.5, 0.5) + np.asarray(pcd.normals) * 0.5"
      ],
      "metadata": {
        "id": "1kf4UN4lynTv"
      },
      "execution_count": null,
      "outputs": []
    },
    {
      "cell_type": "markdown",
      "source": [
        "The scene is a chair in a corner of a room"
      ],
      "metadata": {
        "id": "vLnJpxjiK6Dg"
      }
    },
    {
      "cell_type": "code",
      "source": [
        "fig = go.Figure(\n",
        "  data=[\n",
        "    go.Scatter3d(\n",
        "      x=points[:,0], y=points[:,1], z=points[:,2],\n",
        "      mode='markers',\n",
        "      marker=dict(size=1, color=colors)\n",
        ")\n",
        "],\n",
        "  layout=dict(\n",
        "    scene=dict(\n",
        "      xaxis=dict(visible=False),\n",
        "      yaxis=dict(visible=False),\n",
        "      zaxis=dict(visible=False)\n",
        ")\n",
        ")\n",
        ")\n",
        "fig.show()"
      ],
      "metadata": {
        "id": "-hdeAhVuypc9"
      },
      "execution_count": null,
      "outputs": []
    }
  ]
}